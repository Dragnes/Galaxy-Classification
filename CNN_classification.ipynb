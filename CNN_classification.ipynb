{
 "cells": [
  {
   "cell_type": "code",
   "execution_count": 27,
   "metadata": {},
   "outputs": [],
   "source": [
    "%matplotlib inline\n",
    "import os\n",
    "import matplotlib.pyplot as plt\n",
    "import numpy as np\n",
    "import pandas as pd\n",
    "import random\n",
    "import tensorflow as tf\n",
    "import threading\n",
    "\n",
    "from keras import backend as K\n",
    "from keras import losses\n",
    "from keras.callbacks import Callback, LearningRateScheduler\n",
    "from keras.layers import *\n",
    "from keras.models import Model\n",
    "from keras.optimizers import Adam\n",
    "from keras.preprocessing.image import Iterator, ImageDataGenerator\n",
    "from keras.utils.data_utils import Sequence\n",
    "from skimage import img_as_float, io\n",
    "from skimage.transform import resize\n",
    "\n",
    "from sklearn.metrics import accuracy_score\n",
    "from Generator import *\n",
    "from Layers import DenseNet"
   ]
  },
  {
   "cell_type": "code",
   "execution_count": 3,
   "metadata": {},
   "outputs": [],
   "source": [
    "TRAIN = './images_training/'\n",
    "TEST = './images_test_rev1/'\n",
    "LABELS = './solutions'"
   ]
  },
  {
   "cell_type": "code",
   "execution_count": 4,
   "metadata": {},
   "outputs": [
    {
     "name": "stdout",
     "output_type": "stream",
     "text": [
      "55578\n",
      "6000\n",
      "79975\n"
     ]
    }
   ],
   "source": [
    "files = sorted(os.listdir(TRAIN))\n",
    "train_files = files[6000:]\n",
    "val_files = files[:6000]\n",
    "test_files = sorted(os.listdir(TEST))\n",
    "print(len(train_files))\n",
    "print(len(val_files))\n",
    "print(len(test_files))"
   ]
  },
  {
   "cell_type": "code",
   "execution_count": 5,
   "metadata": {},
   "outputs": [
    {
     "name": "stdout",
     "output_type": "stream",
     "text": [
      "61578\n"
     ]
    }
   ],
   "source": [
    "train_labels = pd.read_csv(LABELS).set_index('GalaxyID').T.to_dict('list')\n",
    "print(/home/dhruv/Documents/DS/DSI/Capstone/Galaxy/galaxy_images/CNN_classification.ipynblen(train_labels))"
   ]
  },
  {
   "cell_type": "code",
   "execution_count": 7,
   "metadata": {
    "scrolled": false
   },
   "outputs": [
    {
     "name": "stdout",
     "output_type": "stream",
     "text": [
      "WARNING:tensorflow:From /home/ubuntu/anaconda3/lib/python3.6/site-packages/keras/backend/tensorflow_backend.py:1290: calling reduce_mean (from tensorflow.python.ops.math_ops) with keep_dims is deprecated and will be removed in a future version.\n",
      "Instructions for updating:\n",
      "keep_dims is deprecated, use keepdims instead\n",
      "____________________________________________________________________________________________________\n",
      "Layer (type)                     Output Shape          Param #     Connected to                     \n",
      "====================================================================================================\n",
      "input_1 (InputLayer)             (None, 4, 97, 97, 3)  0                                            \n",
      "____________________________________________________________________________________________________\n",
      "conv3d_1 (Conv3D)                (None, 4, 49, 49, 80) 11840       input_1[0][0]                    \n",
      "____________________________________________________________________________________________________\n",
      "batch_normalization_1 (BatchNorm (None, 4, 49, 49, 80) 320         conv3d_1[0][0]                   \n",
      "____________________________________________________________________________________________________\n",
      "activation_1 (Activation)        (None, 4, 49, 49, 80) 0           batch_normalization_1[0][0]      \n",
      "____________________________________________________________________________________________________\n",
      "max_pooling3d_1 (MaxPooling3D)   (None, 4, 25, 25, 80) 0           activation_1[0][0]               \n",
      "____________________________________________________________________________________________________\n",
      "batch_normalization_2 (BatchNorm (None, 4, 25, 25, 80) 320         max_pooling3d_1[0][0]            \n",
      "____________________________________________________________________________________________________\n",
      "activation_2 (Activation)        (None, 4, 25, 25, 80) 0           batch_normalization_2[0][0]      \n",
      "____________________________________________________________________________________________________\n",
      "conv3d_2 (Conv3D)                (None, 4, 25, 25, 40) 28840       activation_2[0][0]               \n",
      "____________________________________________________________________________________________________\n",
      "concatenate_1 (Concatenate)      (None, 4, 25, 25, 120 0           max_pooling3d_1[0][0]            \n",
      "                                                                   conv3d_2[0][0]                   \n",
      "____________________________________________________________________________________________________\n",
      "batch_normalization_3 (BatchNorm (None, 4, 25, 25, 120 480         concatenate_1[0][0]              \n",
      "____________________________________________________________________________________________________\n",
      "activation_3 (Activation)        (None, 4, 25, 25, 120 0           batch_normalization_3[0][0]      \n",
      "____________________________________________________________________________________________________\n",
      "conv3d_3 (Conv3D)                (None, 4, 25, 25, 40) 43240       activation_3[0][0]               \n",
      "____________________________________________________________________________________________________\n",
      "concatenate_2 (Concatenate)      (None, 4, 25, 25, 160 0           concatenate_1[0][0]              \n",
      "                                                                   conv3d_3[0][0]                   \n",
      "____________________________________________________________________________________________________\n",
      "batch_normalization_4 (BatchNorm (None, 4, 25, 25, 160 640         concatenate_2[0][0]              \n",
      "____________________________________________________________________________________________________\n",
      "activation_4 (Activation)        (None, 4, 25, 25, 160 0           batch_normalization_4[0][0]      \n",
      "____________________________________________________________________________________________________\n",
      "conv3d_4 (Conv3D)                (None, 4, 25, 25, 40) 57640       activation_4[0][0]               \n",
      "____________________________________________________________________________________________________\n",
      "concatenate_3 (Concatenate)      (None, 4, 25, 25, 200 0           concatenate_2[0][0]              \n",
      "                                                                   conv3d_4[0][0]                   \n",
      "____________________________________________________________________________________________________\n",
      "batch_normalization_5 (BatchNorm (None, 4, 25, 25, 200 800         concatenate_3[0][0]              \n",
      "____________________________________________________________________________________________________\n",
      "activation_5 (Activation)        (None, 4, 25, 25, 200 0           batch_normalization_5[0][0]      \n",
      "____________________________________________________________________________________________________\n",
      "conv3d_5 (Conv3D)                (None, 4, 25, 25, 20) 4020        activation_5[0][0]               \n",
      "____________________________________________________________________________________________________\n",
      "average_pooling3d_1 (AveragePool (None, 4, 13, 13, 20) 0           conv3d_5[0][0]                   \n",
      "____________________________________________________________________________________________________\n",
      "batch_normalization_6 (BatchNorm (None, 4, 13, 13, 20) 80          average_pooling3d_1[0][0]        \n",
      "____________________________________________________________________________________________________\n",
      "activation_6 (Activation)        (None, 4, 13, 13, 20) 0           batch_normalization_6[0][0]      \n",
      "____________________________________________________________________________________________________\n",
      "conv3d_6 (Conv3D)                (None, 4, 13, 13, 20) 3620        activation_6[0][0]               \n",
      "____________________________________________________________________________________________________\n",
      "concatenate_4 (Concatenate)      (None, 4, 13, 13, 40) 0           average_pooling3d_1[0][0]        \n",
      "                                                                   conv3d_6[0][0]                   \n",
      "____________________________________________________________________________________________________\n",
      "batch_normalization_7 (BatchNorm (None, 4, 13, 13, 40) 160         concatenate_4[0][0]              \n",
      "____________________________________________________________________________________________________\n",
      "activation_7 (Activation)        (None, 4, 13, 13, 40) 0           batch_normalization_7[0][0]      \n",
      "____________________________________________________________________________________________________\n",
      "conv3d_7 (Conv3D)                (None, 4, 13, 13, 20) 7220        activation_7[0][0]               \n",
      "____________________________________________________________________________________________________\n",
      "concatenate_5 (Concatenate)      (None, 4, 13, 13, 60) 0           concatenate_4[0][0]              \n",
      "                                                                   conv3d_7[0][0]                   \n",
      "____________________________________________________________________________________________________\n",
      "batch_normalization_8 (BatchNorm (None, 4, 13, 13, 60) 240         concatenate_5[0][0]              \n",
      "____________________________________________________________________________________________________\n",
      "activation_8 (Activation)        (None, 4, 13, 13, 60) 0           batch_normalization_8[0][0]      \n",
      "____________________________________________________________________________________________________\n",
      "conv3d_8 (Conv3D)                (None, 4, 13, 13, 20) 10820       activation_8[0][0]               \n",
      "____________________________________________________________________________________________________\n",
      "concatenate_6 (Concatenate)      (None, 4, 13, 13, 80) 0           concatenate_5[0][0]              \n",
      "                                                                   conv3d_8[0][0]                   \n",
      "____________________________________________________________________________________________________\n",
      "batch_normalization_9 (BatchNorm (None, 4, 13, 13, 80) 320         concatenate_6[0][0]              \n",
      "____________________________________________________________________________________________________\n",
      "activation_9 (Activation)        (None, 4, 13, 13, 80) 0           batch_normalization_9[0][0]      \n",
      "____________________________________________________________________________________________________\n",
      "conv3d_9 (Conv3D)                (None, 4, 7, 7, 37)   145077      activation_9[0][0]               \n",
      "____________________________________________________________________________________________________\n",
      "global_average_pooling3d_1 (Glob (None, 37)            0           conv3d_9[0][0]                   \n",
      "____________________________________________________________________________________________________\n",
      "activation_10 (Activation)       (None, 37)            0           global_average_pooling3d_1[0][0] \n",
      "====================================================================================================\n",
      "Total params: 315,677\n",
      "Trainable params: 313,997\n",
      "Non-trainable params: 1,680\n",
      "____________________________________________________________________________________________________\n"
     ]
    }
   ],
   "source": [
    "IMAGE_SIZE = 97\n",
    "model = DenseNet(IMAGE_SIZE, k=40, bn=None, theta=0.5, drop=None, B=2, L=3, outs=37)\n",
    "model.summary()"
   ]
  },
  {
   "cell_type": "code",
   "execution_count": 10,
   "metadata": {},
   "outputs": [],
   "source": [
    "def rmse(y_true, y_pred):\n",
    "    return K.sqrt(losses.mean_squared_error(y_true, y_pred))\n",
    "\n",
    "def mean_squared_error(y_true, y_pred):\n",
    "    return K.mean(K.square(y_pred - y_true), axis=-1)"
   ]
  },
  {
   "cell_type": "code",
   "execution_count": 11,
   "metadata": {},
   "outputs": [],
   "source": [
    "Batch_Size = 32\n",
    "TRAIN_Batch_Size = 22\n",
    "PSEUDO_Batch_Size = Batch_Size - TRAIN_Batch_Size\n",
    "\n",
    "train_generator = StandardIterator(TRAIN, train_files, train_labels, batch_size=Batch_Size)\n",
    "pseudo_generator = MixedIterator(TRAIN, train_files, val_files, TEST, test_files, train_labels,\n",
    "                                     batch_split=(TRAIN_Batch_Size, PSEUDO_Batch_Size))\n",
    "val_generator = StandardIterator(TRAIN, val_files, train_labels, batch_size=Batch_Size, shuffle=False)"
   ]
  },
  {
   "cell_type": "code",
   "execution_count": null,
   "metadata": {
    "scrolled": true
   },
   "outputs": [
    {
     "name": "stdout",
     "output_type": "stream",
     "text": [
      "Epoch 1/30\n",
      "1736/1736 [==============================] - 9700s - loss: 0.0168 - acc: 0.6503 - val_loss: 0.0146 - val_acc: 0.6753\n",
      "Epoch 2/30\n",
      "1736/1736 [==============================] - 9693s - loss: 0.0124 - acc: 0.7262 - val_loss: 0.0362 - val_acc: 0.6017\n",
      "Epoch 3/30\n",
      "1736/1736 [==============================] - 9691s - loss: 0.0113 - acc: 0.7459 - val_loss: 0.0135 - val_acc: 0.6635\n",
      "Epoch 4/30\n",
      "1736/1736 [==============================] - 9689s - loss: 0.0107 - acc: 0.7572 - val_loss: 0.0128 - val_acc: 0.7326\n",
      "Epoch 5/30\n",
      "1736/1736 [==============================] - 9691s - loss: 0.0102 - acc: 0.7629 - val_loss: 0.0215 - val_acc: 0.4055\n",
      "Epoch 6/30\n",
      "1736/1736 [==============================] - 9694s - loss: 0.0099 - acc: 0.7689 - val_loss: 0.0166 - val_acc: 0.5937\n",
      "Epoch 7/30\n",
      "1736/1736 [==============================] - 9691s - loss: 0.0096 - acc: 0.7699 - val_loss: 0.0159 - val_acc: 0.7185\n",
      "Epoch 8/30\n",
      "1736/1736 [==============================] - 9691s - loss: 0.0094 - acc: 0.7745 - val_loss: 0.0099 - val_acc: 0.7676\n",
      "Epoch 9/30\n",
      "1736/1736 [==============================] - 9692s - loss: 0.0091 - acc: 0.7795 - val_loss: 0.0305 - val_acc: 0.2954\n",
      "Epoch 10/30\n",
      "1736/1736 [==============================] - 9688s - loss: 0.0090 - acc: 0.7816 - val_loss: 0.0149 - val_acc: 0.7165\n",
      "Epoch 11/30\n",
      "1736/1736 [==============================] - 9689s - loss: 0.0088 - acc: 0.7819 - val_loss: 0.0139 - val_acc: 0.6922\n",
      "Epoch 12/30\n",
      "1736/1736 [==============================] - 9693s - loss: 0.0086 - acc: 0.7840 - val_loss: 0.0088 - val_acc: 0.7787\n",
      "Epoch 13/30\n",
      "1736/1736 [==============================] - 9697s - loss: 0.0084 - acc: 0.7851 - val_loss: 0.0102 - val_acc: 0.7684\n",
      "Epoch 14/30\n",
      "1736/1736 [==============================] - 9697s - loss: 0.0083 - acc: 0.7884 - val_loss: 0.0083 - val_acc: 0.7894\n",
      "Epoch 15/30\n",
      "1736/1736 [==============================] - 9695s - loss: 0.0082 - acc: 0.7880 - val_loss: 0.0114 - val_acc: 0.6702\n",
      "Epoch 16/30\n",
      "1736/1736 [==============================] - 9692s - loss: 0.0080 - acc: 0.7931 - val_loss: 0.0094 - val_acc: 0.7746\n",
      "Epoch 17/30\n",
      "1736/1736 [==============================] - 9692s - loss: 0.0079 - acc: 0.7916 - val_loss: 0.0085 - val_acc: 0.7889\n",
      "Epoch 18/30\n",
      "1736/1736 [==============================] - 9692s - loss: 0.0078 - acc: 0.7913 - val_loss: 0.0086 - val_acc: 0.7577\n",
      "Epoch 19/30\n",
      " 111/1736 [>.............................] - ETA: 8777s - loss: 0.0076 - acc: 0.8045"
     ]
    }
   ],
   "source": [
    "# model.compile(optimizer=Adam(0.001), loss=mean_squared_error, metrics=['accuracy'])\n",
    "# training_progress = model.fit_generator(train_generator,\n",
    "#                     steps_per_epoch=len(train_files)//Batch_Size,\n",
    "#                     epochs=30,\n",
    "#                     validation_data=val_generator,\n",
    "#                     validation_steps=len(val_files)//Batch_Size,\n",
    "#                     max_queue_size=10)"
   ]
  },
  {
   "cell_type": "code",
   "execution_count": 13,
   "metadata": {},
   "outputs": [
    {
     "name": "stdout",
     "output_type": "stream",
     "text": [
      "Epoch 1/15\n",
      "1736/1736 [==============================] - 9751s - loss: 0.0155 - acc: 0.6659 - val_loss: 0.0195 - val_acc: 0.5488\n",
      "Epoch 2/15\n",
      "1736/1736 [==============================] - 9737s - loss: 0.0122 - acc: 0.7316 - val_loss: 0.0407 - val_acc: 0.3095\n",
      "Epoch 3/15\n",
      "1736/1736 [==============================] - 9739s - loss: 0.0111 - acc: 0.7472 - val_loss: 0.0127 - val_acc: 0.7360\n",
      "Epoch 4/15\n",
      "1736/1736 [==============================] - 9743s - loss: 0.0106 - acc: 0.7576 - val_loss: 0.0244 - val_acc: 0.5916\n",
      "Epoch 5/15\n",
      "1736/1736 [==============================] - 9736s - loss: 0.0100 - acc: 0.7695 - val_loss: 0.0116 - val_acc: 0.7169\n",
      "Epoch 6/15\n",
      "1736/1736 [==============================] - 9729s - loss: 0.0097 - acc: 0.7720 - val_loss: 0.0135 - val_acc: 0.7373\n",
      "Epoch 7/15\n",
      "1736/1736 [==============================] - 9737s - loss: 0.0094 - acc: 0.7775 - val_loss: 0.0098 - val_acc: 0.7818\n",
      "Epoch 8/15\n",
      "1736/1736 [==============================] - 9735s - loss: 0.0091 - acc: 0.7834 - val_loss: 0.0125 - val_acc: 0.7315\n",
      "Epoch 9/15\n",
      "1736/1736 [==============================] - 9737s - loss: 0.0089 - acc: 0.7819 - val_loss: 0.0096 - val_acc: 0.7754\n",
      "Epoch 10/15\n",
      "1736/1736 [==============================] - 9739s - loss: 0.0087 - acc: 0.7878 - val_loss: 0.0092 - val_acc: 0.7786\n",
      "Epoch 11/15\n",
      "1736/1736 [==============================] - 9715s - loss: 0.0085 - acc: 0.7889 - val_loss: 0.0097 - val_acc: 0.6970\n",
      "Epoch 12/15\n",
      "1736/1736 [==============================] - 9716s - loss: 0.0083 - acc: 0.7904 - val_loss: 0.0085 - val_acc: 0.7899\n",
      "Epoch 13/15\n",
      "1736/1736 [==============================] - 9710s - loss: 0.0082 - acc: 0.7928 - val_loss: 0.0090 - val_acc: 0.7818\n",
      "Epoch 14/15\n",
      "1736/1736 [==============================] - 9716s - loss: 0.0081 - acc: 0.7933 - val_loss: 0.0084 - val_acc: 0.7848\n",
      "Epoch 15/15\n",
      "1736/1736 [==============================] - 9720s - loss: 0.0079 - acc: 0.7957 - val_loss: 0.0093 - val_acc: 0.7721\n"
     ]
    }
   ],
   "source": [
    "model.compile(optimizer=Adam(0.001), loss=mean_squared_error, metrics=['accuracy'])\n",
    "training_progress = model.fit_generator(train_generator,\n",
    "                    steps_per_epoch=len(train_files)//Batch_Size,\n",
    "                    epochs=15,\n",
    "                    validation_data=val_generator,\n",
    "                    validation_steps=len(val_files)//Batch_Size,\n",
    "                    max_queue_size=10,\n",
    "                    use_multiprocessing=True)"
   ]
  },
  {
   "cell_type": "code",
   "execution_count": 14,
   "metadata": {
    "scrolled": true
   },
   "outputs": [
    {
     "data": {
      "text/plain": [
       "[<matplotlib.lines.Line2D at 0x7f57c72c2240>]"
      ]
     },
     "execution_count": 14,
     "metadata": {},
     "output_type": "execute_result"
    },
    {
     "data": {
      "image/png": "[encoded data removed]",
      "text/plain": [
       "<Figure size 432x288 with 1 Axes>"
      ]
     },
     "metadata": {
      "needs_background": "light"
     },
     "output_type": "display_data"
    }
   ],
   "source": [
    "plt.plot(training_progress.epoch, training_progress.history['loss'], label='Train')\n",
    "plt.plot(training_progress.epoch, training_progress.history['val_loss'], label='Validation')"
   ]
  },
  {
   "cell_type": "code",
   "execution_count": 28,
   "metadata": {},
   "outputs": [
    {
     "data": {
      "text/plain": [
       "[<matplotlib.lines.Line2D at 0x7f55fdf13240>]"
      ]
     },
     "execution_count": 28,
     "metadata": {},
     "output_type": "execute_result"
    },
    {
     "data": {
      "image/png": "[encoded data removed]",
      "text/plain": [
       "<Figure size 432x288 with 1 Axes>"
      ]
     },
     "metadata": {
      "needs_background": "light"
     },
     "output_type": "display_data"
    }
   ],
   "source": [
    "plt.plot(training_progress.epoch, training_progress.history['loss'], label='Train')"
   ]
  },
  {
   "cell_type": "code",
   "execution_count": 33,
   "metadata": {},
   "outputs": [
    {
     "data": {
      "text/plain": [
       "[<matplotlib.lines.Line2D at 0x7f55fde5f048>]"
      ]
     },
     "execution_count": 33,
     "metadata": {},
     "output_type": "execute_result"
    },
    {
     "data": {
      "image/png": "[encoded data removed]",
      "text/plain": [
       "<Figure size 432x288 with 1 Axes>"
      ]
     },
     "metadata": {
      "needs_background": "light"
     },
     "output_type": "display_data"
    }
   ],
   "source": [
    "plt.plot(training_progress.epoch, training_progress.history['acc'], label='Validation')"
   ]
  },
  {
   "cell_type": "markdown",
   "metadata": {},
   "source": [
    "Predict"
   ]
  },
  {
   "cell_type": "code",
   "execution_count": 22,
   "metadata": {},
   "outputs": [
    {
     "name": "stderr",
     "output_type": "stream",
     "text": [
      "/home/ubuntu/anaconda3/lib/python3.6/site-packages/skimage/transform/_warps.py:110: UserWarning: Anti-aliasing will be enabled by default in skimage 0.15 to avoid aliasing artifacts when down-sampling images.\n",
      "  warn(\"Anti-aliasing will be enabled by default in skimage 0.15 to \"\n"
     ]
    },
    {
     "name": "stdout",
     "output_type": "stream",
     "text": [
      "2285/2285 [==============================] - 4336s  \n"
     ]
    }
   ],
   "source": [
    "test_size = len(test_files)\n",
    "preds = model.predict_generator(StandardIterator(TEST, test_files, batch_size=35, shuffle=False), steps=test_size//35, verbose=1)"
   ]
  }
 ],
 "metadata": {
  "kernelspec": {
   "display_name": "Python 3",
   "language": "python",
   "name": "python3"
  },
  "language_info": {
   "codemirror_mode": {
    "name": "ipython",
    "version": 3
   },
   "file_extension": ".py",
   "mimetype": "text/x-python",
   "name": "python",
   "nbconvert_exporter": "python",
   "pygments_lexer": "ipython3",
   "version": "3.6.6"
  }
 },
 "nbformat": 4,
 "nbformat_minor": 2
}
